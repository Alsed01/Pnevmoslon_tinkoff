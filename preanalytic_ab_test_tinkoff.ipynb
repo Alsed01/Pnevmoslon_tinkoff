{
 "cells": [
  {
   "cell_type": "code",
   "id": "initial_id",
   "metadata": {
    "collapsed": true,
    "ExecuteTime": {
     "end_time": "2024-04-24T18:18:12.895243Z",
     "start_time": "2024-04-24T18:18:12.884415Z"
    }
   },
   "source": [
    "import pandas as pd\n",
    "import numpy as np\n",
    "import plotly.express as px\n",
    "from scipy.stats import norm"
   ],
   "outputs": [],
   "execution_count": 39
  },
  {
   "metadata": {
    "ExecuteTime": {
     "end_time": "2024-04-24T17:12:52.834217Z",
     "start_time": "2024-04-24T17:12:49.767190Z"
    }
   },
   "cell_type": "code",
   "source": [
    "employees_df = pd.read_csv(\"employees.csv\", sep = ';')\n",
    "courses_passing_df = pd.read_csv(\"courses_passing.csv\", sep = ';')\n",
    "course_employee_sms_df = pd.read_csv(\"course_employee_sms.csv\", sep = ';')\n",
    "communications_df = pd.read_csv(\"communications.csv\", sep = ';')\n",
    "ab_test_df = pd.read_csv(\"ab_test.csv\", sep = ',')"
   ],
   "id": "2aa6f36e6d3084a2",
   "outputs": [],
   "execution_count": 5
  },
  {
   "metadata": {
    "ExecuteTime": {
     "end_time": "2024-04-24T17:14:22.739954Z",
     "start_time": "2024-04-24T17:14:22.733904Z"
    }
   },
   "cell_type": "code",
   "source": "ab_test_df.head(10)",
   "id": "cc7bb493e18ea9be",
   "outputs": [
    {
     "data": {
      "text/plain": [
       "                            employee_id  course_id      after     before  \\\n",
       "0  00411460-f7c9-2d21-24a6-7ea0f4cb5f85          7  51.180723  44.162162   \n",
       "1  00411460-f7c9-2d21-24a6-7ea0f4cb5f85          8  58.879121  59.816176   \n",
       "2  00411460-f7c9-2d21-24a6-7ea0f4cb5f85         20  61.271429  54.013453   \n",
       "3  00411460-f7c9-2d21-24a6-7ea0f4cb5f85         29  59.250000  55.598958   \n",
       "4  00411460-f7c9-2d21-24a6-7ea0f4cb5f85         50  62.396396  58.080808   \n",
       "5  006f52e9-102a-8d3b-e2fe-5614f42ba989         10  58.219780  56.754717   \n",
       "6  006f52e9-102a-8d3b-e2fe-5614f42ba989         14  65.832669  66.713415   \n",
       "7  006f52e9-102a-8d3b-e2fe-5614f42ba989         17  56.022857  57.300000   \n",
       "8  006f52e9-102a-8d3b-e2fe-5614f42ba989         19  57.697095  56.022857   \n",
       "9  006f52e9-102a-8d3b-e2fe-5614f42ba989         21  61.704000  61.592760   \n",
       "\n",
       "   not in range  \n",
       "0     57.708428  \n",
       "1     56.718228  \n",
       "2     57.233972  \n",
       "3     57.155440  \n",
       "4     56.226648  \n",
       "5     62.112515  \n",
       "6     60.066751  \n",
       "7     62.247914  \n",
       "8     62.471330  \n",
       "9     61.270972  "
      ],
      "text/html": [
       "<div>\n",
       "<style scoped>\n",
       "    .dataframe tbody tr th:only-of-type {\n",
       "        vertical-align: middle;\n",
       "    }\n",
       "\n",
       "    .dataframe tbody tr th {\n",
       "        vertical-align: top;\n",
       "    }\n",
       "\n",
       "    .dataframe thead th {\n",
       "        text-align: right;\n",
       "    }\n",
       "</style>\n",
       "<table border=\"1\" class=\"dataframe\">\n",
       "  <thead>\n",
       "    <tr style=\"text-align: right;\">\n",
       "      <th></th>\n",
       "      <th>employee_id</th>\n",
       "      <th>course_id</th>\n",
       "      <th>after</th>\n",
       "      <th>before</th>\n",
       "      <th>not in range</th>\n",
       "    </tr>\n",
       "  </thead>\n",
       "  <tbody>\n",
       "    <tr>\n",
       "      <th>0</th>\n",
       "      <td>00411460-f7c9-2d21-24a6-7ea0f4cb5f85</td>\n",
       "      <td>7</td>\n",
       "      <td>51.180723</td>\n",
       "      <td>44.162162</td>\n",
       "      <td>57.708428</td>\n",
       "    </tr>\n",
       "    <tr>\n",
       "      <th>1</th>\n",
       "      <td>00411460-f7c9-2d21-24a6-7ea0f4cb5f85</td>\n",
       "      <td>8</td>\n",
       "      <td>58.879121</td>\n",
       "      <td>59.816176</td>\n",
       "      <td>56.718228</td>\n",
       "    </tr>\n",
       "    <tr>\n",
       "      <th>2</th>\n",
       "      <td>00411460-f7c9-2d21-24a6-7ea0f4cb5f85</td>\n",
       "      <td>20</td>\n",
       "      <td>61.271429</td>\n",
       "      <td>54.013453</td>\n",
       "      <td>57.233972</td>\n",
       "    </tr>\n",
       "    <tr>\n",
       "      <th>3</th>\n",
       "      <td>00411460-f7c9-2d21-24a6-7ea0f4cb5f85</td>\n",
       "      <td>29</td>\n",
       "      <td>59.250000</td>\n",
       "      <td>55.598958</td>\n",
       "      <td>57.155440</td>\n",
       "    </tr>\n",
       "    <tr>\n",
       "      <th>4</th>\n",
       "      <td>00411460-f7c9-2d21-24a6-7ea0f4cb5f85</td>\n",
       "      <td>50</td>\n",
       "      <td>62.396396</td>\n",
       "      <td>58.080808</td>\n",
       "      <td>56.226648</td>\n",
       "    </tr>\n",
       "    <tr>\n",
       "      <th>5</th>\n",
       "      <td>006f52e9-102a-8d3b-e2fe-5614f42ba989</td>\n",
       "      <td>10</td>\n",
       "      <td>58.219780</td>\n",
       "      <td>56.754717</td>\n",
       "      <td>62.112515</td>\n",
       "    </tr>\n",
       "    <tr>\n",
       "      <th>6</th>\n",
       "      <td>006f52e9-102a-8d3b-e2fe-5614f42ba989</td>\n",
       "      <td>14</td>\n",
       "      <td>65.832669</td>\n",
       "      <td>66.713415</td>\n",
       "      <td>60.066751</td>\n",
       "    </tr>\n",
       "    <tr>\n",
       "      <th>7</th>\n",
       "      <td>006f52e9-102a-8d3b-e2fe-5614f42ba989</td>\n",
       "      <td>17</td>\n",
       "      <td>56.022857</td>\n",
       "      <td>57.300000</td>\n",
       "      <td>62.247914</td>\n",
       "    </tr>\n",
       "    <tr>\n",
       "      <th>8</th>\n",
       "      <td>006f52e9-102a-8d3b-e2fe-5614f42ba989</td>\n",
       "      <td>19</td>\n",
       "      <td>57.697095</td>\n",
       "      <td>56.022857</td>\n",
       "      <td>62.471330</td>\n",
       "    </tr>\n",
       "    <tr>\n",
       "      <th>9</th>\n",
       "      <td>006f52e9-102a-8d3b-e2fe-5614f42ba989</td>\n",
       "      <td>21</td>\n",
       "      <td>61.704000</td>\n",
       "      <td>61.592760</td>\n",
       "      <td>61.270972</td>\n",
       "    </tr>\n",
       "  </tbody>\n",
       "</table>\n",
       "</div>"
      ]
     },
     "execution_count": 7,
     "metadata": {},
     "output_type": "execute_result"
    }
   ],
   "execution_count": 7
  },
  {
   "metadata": {
    "ExecuteTime": {
     "end_time": "2024-04-24T17:26:49.085218Z",
     "start_time": "2024-04-24T17:26:49.068599Z"
    }
   },
   "cell_type": "code",
   "source": [
    "emploee_after = ab_test_df.groupby('employee_id').agg({'after':['mean','std']})\n",
    "emploee_after"
   ],
   "id": "5eb5c6556e187830",
   "outputs": [
    {
     "data": {
      "text/plain": [
       "                                          after          \n",
       "                                           mean       std\n",
       "employee_id                                              \n",
       "00411460-f7c9-2d21-24a6-7ea0f4cb5f85  58.595534  4.390192\n",
       "006f52e9-102a-8d3b-e2fe-5614f42ba989  61.528716  3.850593\n",
       "00a03ec6-533c-a7f5-c644-d198d815329c  61.133027  3.873031\n",
       "00ac8ed3-b432-7bdd-4ebb-ebcb2ba10a00  57.386557  1.409761\n",
       "00e26af6-ac3b-1c1c-49d7-c3d79c60d000  56.491046  2.098407\n",
       "...                                         ...       ...\n",
       "ff1418e8-cc99-3fe8-abcf-e3ce2003e5c5  59.075581  2.511347\n",
       "ff49cc40-a889-0e6a-60f4-0ff3026d2730  56.188235       NaN\n",
       "fface838-5abb-f94b-4593-a0ed53a0c70f  57.994813  3.180945\n",
       "ffedf5be-3a86-e2ee-281d-54cdc97bc1cf  57.398029  1.871024\n",
       "ffeed84c-7cb1-ae7b-f4ec-4bd78275bb98  61.811531  4.939949\n",
       "\n",
       "[1677 rows x 2 columns]"
      ],
      "text/html": [
       "<div>\n",
       "<style scoped>\n",
       "    .dataframe tbody tr th:only-of-type {\n",
       "        vertical-align: middle;\n",
       "    }\n",
       "\n",
       "    .dataframe tbody tr th {\n",
       "        vertical-align: top;\n",
       "    }\n",
       "\n",
       "    .dataframe thead tr th {\n",
       "        text-align: left;\n",
       "    }\n",
       "\n",
       "    .dataframe thead tr:last-of-type th {\n",
       "        text-align: right;\n",
       "    }\n",
       "</style>\n",
       "<table border=\"1\" class=\"dataframe\">\n",
       "  <thead>\n",
       "    <tr>\n",
       "      <th></th>\n",
       "      <th colspan=\"2\" halign=\"left\">after</th>\n",
       "    </tr>\n",
       "    <tr>\n",
       "      <th></th>\n",
       "      <th>mean</th>\n",
       "      <th>std</th>\n",
       "    </tr>\n",
       "    <tr>\n",
       "      <th>employee_id</th>\n",
       "      <th></th>\n",
       "      <th></th>\n",
       "    </tr>\n",
       "  </thead>\n",
       "  <tbody>\n",
       "    <tr>\n",
       "      <th>00411460-f7c9-2d21-24a6-7ea0f4cb5f85</th>\n",
       "      <td>58.595534</td>\n",
       "      <td>4.390192</td>\n",
       "    </tr>\n",
       "    <tr>\n",
       "      <th>006f52e9-102a-8d3b-e2fe-5614f42ba989</th>\n",
       "      <td>61.528716</td>\n",
       "      <td>3.850593</td>\n",
       "    </tr>\n",
       "    <tr>\n",
       "      <th>00a03ec6-533c-a7f5-c644-d198d815329c</th>\n",
       "      <td>61.133027</td>\n",
       "      <td>3.873031</td>\n",
       "    </tr>\n",
       "    <tr>\n",
       "      <th>00ac8ed3-b432-7bdd-4ebb-ebcb2ba10a00</th>\n",
       "      <td>57.386557</td>\n",
       "      <td>1.409761</td>\n",
       "    </tr>\n",
       "    <tr>\n",
       "      <th>00e26af6-ac3b-1c1c-49d7-c3d79c60d000</th>\n",
       "      <td>56.491046</td>\n",
       "      <td>2.098407</td>\n",
       "    </tr>\n",
       "    <tr>\n",
       "      <th>...</th>\n",
       "      <td>...</td>\n",
       "      <td>...</td>\n",
       "    </tr>\n",
       "    <tr>\n",
       "      <th>ff1418e8-cc99-3fe8-abcf-e3ce2003e5c5</th>\n",
       "      <td>59.075581</td>\n",
       "      <td>2.511347</td>\n",
       "    </tr>\n",
       "    <tr>\n",
       "      <th>ff49cc40-a889-0e6a-60f4-0ff3026d2730</th>\n",
       "      <td>56.188235</td>\n",
       "      <td>NaN</td>\n",
       "    </tr>\n",
       "    <tr>\n",
       "      <th>fface838-5abb-f94b-4593-a0ed53a0c70f</th>\n",
       "      <td>57.994813</td>\n",
       "      <td>3.180945</td>\n",
       "    </tr>\n",
       "    <tr>\n",
       "      <th>ffedf5be-3a86-e2ee-281d-54cdc97bc1cf</th>\n",
       "      <td>57.398029</td>\n",
       "      <td>1.871024</td>\n",
       "    </tr>\n",
       "    <tr>\n",
       "      <th>ffeed84c-7cb1-ae7b-f4ec-4bd78275bb98</th>\n",
       "      <td>61.811531</td>\n",
       "      <td>4.939949</td>\n",
       "    </tr>\n",
       "  </tbody>\n",
       "</table>\n",
       "<p>1677 rows × 2 columns</p>\n",
       "</div>"
      ]
     },
     "execution_count": 15,
     "metadata": {},
     "output_type": "execute_result"
    }
   ],
   "execution_count": 15
  },
  {
   "metadata": {
    "ExecuteTime": {
     "end_time": "2024-04-24T17:24:34.268340Z",
     "start_time": "2024-04-24T17:24:34.260719Z"
    }
   },
   "cell_type": "code",
   "source": "emploee_after.agg({'after':['mean', 'std']})",
   "id": "3c031b88b5b3d10",
   "outputs": [
    {
     "data": {
      "text/plain": [
       "          after\n",
       "mean  59.089710\n",
       "std    2.336219"
      ],
      "text/html": [
       "<div>\n",
       "<style scoped>\n",
       "    .dataframe tbody tr th:only-of-type {\n",
       "        vertical-align: middle;\n",
       "    }\n",
       "\n",
       "    .dataframe tbody tr th {\n",
       "        vertical-align: top;\n",
       "    }\n",
       "\n",
       "    .dataframe thead th {\n",
       "        text-align: right;\n",
       "    }\n",
       "</style>\n",
       "<table border=\"1\" class=\"dataframe\">\n",
       "  <thead>\n",
       "    <tr style=\"text-align: right;\">\n",
       "      <th></th>\n",
       "      <th>after</th>\n",
       "    </tr>\n",
       "  </thead>\n",
       "  <tbody>\n",
       "    <tr>\n",
       "      <th>mean</th>\n",
       "      <td>59.089710</td>\n",
       "    </tr>\n",
       "    <tr>\n",
       "      <th>std</th>\n",
       "      <td>2.336219</td>\n",
       "    </tr>\n",
       "  </tbody>\n",
       "</table>\n",
       "</div>"
      ]
     },
     "execution_count": 13,
     "metadata": {},
     "output_type": "execute_result"
    }
   ],
   "execution_count": 13
  },
  {
   "metadata": {
    "ExecuteTime": {
     "end_time": "2024-04-24T17:28:32.071156Z",
     "start_time": "2024-04-24T17:28:32.063952Z"
    }
   },
   "cell_type": "code",
   "source": "ab_test_df.agg({'after':['mean', 'std']})",
   "id": "68f107bd8d65b544",
   "outputs": [
    {
     "data": {
      "text/plain": [
       "          after\n",
       "mean  60.011519\n",
       "std    3.413131"
      ],
      "text/html": [
       "<div>\n",
       "<style scoped>\n",
       "    .dataframe tbody tr th:only-of-type {\n",
       "        vertical-align: middle;\n",
       "    }\n",
       "\n",
       "    .dataframe tbody tr th {\n",
       "        vertical-align: top;\n",
       "    }\n",
       "\n",
       "    .dataframe thead th {\n",
       "        text-align: right;\n",
       "    }\n",
       "</style>\n",
       "<table border=\"1\" class=\"dataframe\">\n",
       "  <thead>\n",
       "    <tr style=\"text-align: right;\">\n",
       "      <th></th>\n",
       "      <th>after</th>\n",
       "    </tr>\n",
       "  </thead>\n",
       "  <tbody>\n",
       "    <tr>\n",
       "      <th>mean</th>\n",
       "      <td>60.011519</td>\n",
       "    </tr>\n",
       "    <tr>\n",
       "      <th>std</th>\n",
       "      <td>3.413131</td>\n",
       "    </tr>\n",
       "  </tbody>\n",
       "</table>\n",
       "</div>"
      ]
     },
     "execution_count": 16,
     "metadata": {},
     "output_type": "execute_result"
    }
   ],
   "execution_count": 16
  },
  {
   "metadata": {
    "ExecuteTime": {
     "end_time": "2024-04-24T17:33:29.610070Z",
     "start_time": "2024-04-24T17:33:29.602544Z"
    }
   },
   "cell_type": "code",
   "source": "employees_df.head()",
   "id": "7f3bf3428d5f37fa",
   "outputs": [
    {
     "data": {
      "text/plain": [
       "                            employee_id sex  region  age  \\\n",
       "0  0f840be9-b8db-4d3f-bd5b-a2ce59211f55   M       4   36   \n",
       "1  ac1dd209-cbcc-5e5d-1c6e-28598e8cbbe8   M       4   32   \n",
       "2  a8c88a00-55f6-36e4-a163-a5e3d16adab7   F       5   34   \n",
       "3  c91591a8-d461-c286-9b9f-535ded3e213e   F       4   33   \n",
       "4  bc731692-9fe1-545b-f0b9-8d114ee3ecb8   M       0   33   \n",
       "\n",
       "                       head_employee_id  exp_days  edu_degree  department_id  \\\n",
       "0  c81e728d-9d4c-2f63-6f06-7f89cc14862c       734           0              2   \n",
       "1  93db85ed-909c-1383-8ff9-5ccfa94cebd9       654           0              2   \n",
       "2  9a115815-4dfa-42ca-ddbd-0694a4e9bdc8       276           1              2   \n",
       "3  9f61408e-3afb-633e-50cd-f1b20de6f466        50           2              0   \n",
       "4  a97da629-b098-b75c-294d-ffdc3e463904       274           1              2   \n",
       "\n",
       "   work_online_flg  \n",
       "0                1  \n",
       "1                1  \n",
       "2                1  \n",
       "3                1  \n",
       "4                1  "
      ],
      "text/html": [
       "<div>\n",
       "<style scoped>\n",
       "    .dataframe tbody tr th:only-of-type {\n",
       "        vertical-align: middle;\n",
       "    }\n",
       "\n",
       "    .dataframe tbody tr th {\n",
       "        vertical-align: top;\n",
       "    }\n",
       "\n",
       "    .dataframe thead th {\n",
       "        text-align: right;\n",
       "    }\n",
       "</style>\n",
       "<table border=\"1\" class=\"dataframe\">\n",
       "  <thead>\n",
       "    <tr style=\"text-align: right;\">\n",
       "      <th></th>\n",
       "      <th>employee_id</th>\n",
       "      <th>sex</th>\n",
       "      <th>region</th>\n",
       "      <th>age</th>\n",
       "      <th>head_employee_id</th>\n",
       "      <th>exp_days</th>\n",
       "      <th>edu_degree</th>\n",
       "      <th>department_id</th>\n",
       "      <th>work_online_flg</th>\n",
       "    </tr>\n",
       "  </thead>\n",
       "  <tbody>\n",
       "    <tr>\n",
       "      <th>0</th>\n",
       "      <td>0f840be9-b8db-4d3f-bd5b-a2ce59211f55</td>\n",
       "      <td>M</td>\n",
       "      <td>4</td>\n",
       "      <td>36</td>\n",
       "      <td>c81e728d-9d4c-2f63-6f06-7f89cc14862c</td>\n",
       "      <td>734</td>\n",
       "      <td>0</td>\n",
       "      <td>2</td>\n",
       "      <td>1</td>\n",
       "    </tr>\n",
       "    <tr>\n",
       "      <th>1</th>\n",
       "      <td>ac1dd209-cbcc-5e5d-1c6e-28598e8cbbe8</td>\n",
       "      <td>M</td>\n",
       "      <td>4</td>\n",
       "      <td>32</td>\n",
       "      <td>93db85ed-909c-1383-8ff9-5ccfa94cebd9</td>\n",
       "      <td>654</td>\n",
       "      <td>0</td>\n",
       "      <td>2</td>\n",
       "      <td>1</td>\n",
       "    </tr>\n",
       "    <tr>\n",
       "      <th>2</th>\n",
       "      <td>a8c88a00-55f6-36e4-a163-a5e3d16adab7</td>\n",
       "      <td>F</td>\n",
       "      <td>5</td>\n",
       "      <td>34</td>\n",
       "      <td>9a115815-4dfa-42ca-ddbd-0694a4e9bdc8</td>\n",
       "      <td>276</td>\n",
       "      <td>1</td>\n",
       "      <td>2</td>\n",
       "      <td>1</td>\n",
       "    </tr>\n",
       "    <tr>\n",
       "      <th>3</th>\n",
       "      <td>c91591a8-d461-c286-9b9f-535ded3e213e</td>\n",
       "      <td>F</td>\n",
       "      <td>4</td>\n",
       "      <td>33</td>\n",
       "      <td>9f61408e-3afb-633e-50cd-f1b20de6f466</td>\n",
       "      <td>50</td>\n",
       "      <td>2</td>\n",
       "      <td>0</td>\n",
       "      <td>1</td>\n",
       "    </tr>\n",
       "    <tr>\n",
       "      <th>4</th>\n",
       "      <td>bc731692-9fe1-545b-f0b9-8d114ee3ecb8</td>\n",
       "      <td>M</td>\n",
       "      <td>0</td>\n",
       "      <td>33</td>\n",
       "      <td>a97da629-b098-b75c-294d-ffdc3e463904</td>\n",
       "      <td>274</td>\n",
       "      <td>1</td>\n",
       "      <td>2</td>\n",
       "      <td>1</td>\n",
       "    </tr>\n",
       "  </tbody>\n",
       "</table>\n",
       "</div>"
      ]
     },
     "execution_count": 17,
     "metadata": {},
     "output_type": "execute_result"
    }
   ],
   "execution_count": 17
  },
  {
   "metadata": {
    "ExecuteTime": {
     "end_time": "2024-04-24T17:33:58.264768Z",
     "start_time": "2024-04-24T17:33:58.253907Z"
    }
   },
   "cell_type": "code",
   "source": "courses_passing_df",
   "id": "713bb9495f186f10",
   "outputs": [
    {
     "data": {
      "text/plain": [
       "       course_id                           employee_id  pass_frac  \\\n",
       "0             24  53ed35c7-4a2e-c275-b837-374f04396c03       1.00   \n",
       "1             83  202cb962-ac59-075b-964b-07152d234b70       1.00   \n",
       "2              4  05f971b5-ec19-6b8c-65b7-5d2ef8267331       1.00   \n",
       "3             79  f4a331b7-a22d-1b23-7565-d8813a34d8ac       1.00   \n",
       "4              6  aba3b6fd-5d18-6d28-e06f-f97135cade7f       1.00   \n",
       "...          ...                                   ...        ...   \n",
       "10945         49  3147da8a-b4a0-437c-15ef-51a5cc7f2dc4       1.00   \n",
       "10946         16  00e26af6-ac3b-1c1c-49d7-c3d79c60d000       1.00   \n",
       "10947         40  e5b294b7-0c96-47dc-f804-d7baa1903918       1.00   \n",
       "10948         24  fb89705a-e6d7-43bf-1e84-8c206e16a1d7       0.05   \n",
       "10949         57  51de85dd-d068-f0bc-7876-91d356176df9       1.00   \n",
       "\n",
       "                  start_dt     last_activity_dt               end_dt  \\\n",
       "0      2023-01-30 00:00:00  2023-02-05 00:00:00  2023-02-05 00:00:00   \n",
       "1      2023-08-29 00:00:00  2023-09-10 00:00:00  2023-09-10 00:00:00   \n",
       "2      2023-07-29 00:00:00  2023-08-09 00:00:00  2023-08-09 00:00:00   \n",
       "3      2023-05-30 00:00:00  2023-06-09 00:00:00  2023-06-09 00:00:00   \n",
       "4      2023-07-12 00:00:00  2023-07-22 00:00:00  2023-07-22 00:00:00   \n",
       "...                    ...                  ...                  ...   \n",
       "10945  2023-05-11 00:00:00  2023-05-18 00:00:00  2023-05-18 00:00:00   \n",
       "10946  2023-05-08 00:00:00  2023-05-20 00:00:00  2023-05-20 00:00:00   \n",
       "10947  2023-03-30 00:00:00  2023-04-13 00:00:00  2023-04-13 00:00:00   \n",
       "10948  2023-05-05 00:00:00  2023-05-08 00:00:00                  NaN   \n",
       "10949  2023-08-08 00:00:00  2023-08-18 00:00:00  2023-08-18 00:00:00   \n",
       "\n",
       "       educ_duration_days  \n",
       "0                     6.0  \n",
       "1                    12.0  \n",
       "2                    11.0  \n",
       "3                    10.0  \n",
       "4                    10.0  \n",
       "...                   ...  \n",
       "10945                 7.0  \n",
       "10946                12.0  \n",
       "10947                14.0  \n",
       "10948                 NaN  \n",
       "10949                10.0  \n",
       "\n",
       "[10950 rows x 7 columns]"
      ],
      "text/html": [
       "<div>\n",
       "<style scoped>\n",
       "    .dataframe tbody tr th:only-of-type {\n",
       "        vertical-align: middle;\n",
       "    }\n",
       "\n",
       "    .dataframe tbody tr th {\n",
       "        vertical-align: top;\n",
       "    }\n",
       "\n",
       "    .dataframe thead th {\n",
       "        text-align: right;\n",
       "    }\n",
       "</style>\n",
       "<table border=\"1\" class=\"dataframe\">\n",
       "  <thead>\n",
       "    <tr style=\"text-align: right;\">\n",
       "      <th></th>\n",
       "      <th>course_id</th>\n",
       "      <th>employee_id</th>\n",
       "      <th>pass_frac</th>\n",
       "      <th>start_dt</th>\n",
       "      <th>last_activity_dt</th>\n",
       "      <th>end_dt</th>\n",
       "      <th>educ_duration_days</th>\n",
       "    </tr>\n",
       "  </thead>\n",
       "  <tbody>\n",
       "    <tr>\n",
       "      <th>0</th>\n",
       "      <td>24</td>\n",
       "      <td>53ed35c7-4a2e-c275-b837-374f04396c03</td>\n",
       "      <td>1.00</td>\n",
       "      <td>2023-01-30 00:00:00</td>\n",
       "      <td>2023-02-05 00:00:00</td>\n",
       "      <td>2023-02-05 00:00:00</td>\n",
       "      <td>6.0</td>\n",
       "    </tr>\n",
       "    <tr>\n",
       "      <th>1</th>\n",
       "      <td>83</td>\n",
       "      <td>202cb962-ac59-075b-964b-07152d234b70</td>\n",
       "      <td>1.00</td>\n",
       "      <td>2023-08-29 00:00:00</td>\n",
       "      <td>2023-09-10 00:00:00</td>\n",
       "      <td>2023-09-10 00:00:00</td>\n",
       "      <td>12.0</td>\n",
       "    </tr>\n",
       "    <tr>\n",
       "      <th>2</th>\n",
       "      <td>4</td>\n",
       "      <td>05f971b5-ec19-6b8c-65b7-5d2ef8267331</td>\n",
       "      <td>1.00</td>\n",
       "      <td>2023-07-29 00:00:00</td>\n",
       "      <td>2023-08-09 00:00:00</td>\n",
       "      <td>2023-08-09 00:00:00</td>\n",
       "      <td>11.0</td>\n",
       "    </tr>\n",
       "    <tr>\n",
       "      <th>3</th>\n",
       "      <td>79</td>\n",
       "      <td>f4a331b7-a22d-1b23-7565-d8813a34d8ac</td>\n",
       "      <td>1.00</td>\n",
       "      <td>2023-05-30 00:00:00</td>\n",
       "      <td>2023-06-09 00:00:00</td>\n",
       "      <td>2023-06-09 00:00:00</td>\n",
       "      <td>10.0</td>\n",
       "    </tr>\n",
       "    <tr>\n",
       "      <th>4</th>\n",
       "      <td>6</td>\n",
       "      <td>aba3b6fd-5d18-6d28-e06f-f97135cade7f</td>\n",
       "      <td>1.00</td>\n",
       "      <td>2023-07-12 00:00:00</td>\n",
       "      <td>2023-07-22 00:00:00</td>\n",
       "      <td>2023-07-22 00:00:00</td>\n",
       "      <td>10.0</td>\n",
       "    </tr>\n",
       "    <tr>\n",
       "      <th>...</th>\n",
       "      <td>...</td>\n",
       "      <td>...</td>\n",
       "      <td>...</td>\n",
       "      <td>...</td>\n",
       "      <td>...</td>\n",
       "      <td>...</td>\n",
       "      <td>...</td>\n",
       "    </tr>\n",
       "    <tr>\n",
       "      <th>10945</th>\n",
       "      <td>49</td>\n",
       "      <td>3147da8a-b4a0-437c-15ef-51a5cc7f2dc4</td>\n",
       "      <td>1.00</td>\n",
       "      <td>2023-05-11 00:00:00</td>\n",
       "      <td>2023-05-18 00:00:00</td>\n",
       "      <td>2023-05-18 00:00:00</td>\n",
       "      <td>7.0</td>\n",
       "    </tr>\n",
       "    <tr>\n",
       "      <th>10946</th>\n",
       "      <td>16</td>\n",
       "      <td>00e26af6-ac3b-1c1c-49d7-c3d79c60d000</td>\n",
       "      <td>1.00</td>\n",
       "      <td>2023-05-08 00:00:00</td>\n",
       "      <td>2023-05-20 00:00:00</td>\n",
       "      <td>2023-05-20 00:00:00</td>\n",
       "      <td>12.0</td>\n",
       "    </tr>\n",
       "    <tr>\n",
       "      <th>10947</th>\n",
       "      <td>40</td>\n",
       "      <td>e5b294b7-0c96-47dc-f804-d7baa1903918</td>\n",
       "      <td>1.00</td>\n",
       "      <td>2023-03-30 00:00:00</td>\n",
       "      <td>2023-04-13 00:00:00</td>\n",
       "      <td>2023-04-13 00:00:00</td>\n",
       "      <td>14.0</td>\n",
       "    </tr>\n",
       "    <tr>\n",
       "      <th>10948</th>\n",
       "      <td>24</td>\n",
       "      <td>fb89705a-e6d7-43bf-1e84-8c206e16a1d7</td>\n",
       "      <td>0.05</td>\n",
       "      <td>2023-05-05 00:00:00</td>\n",
       "      <td>2023-05-08 00:00:00</td>\n",
       "      <td>NaN</td>\n",
       "      <td>NaN</td>\n",
       "    </tr>\n",
       "    <tr>\n",
       "      <th>10949</th>\n",
       "      <td>57</td>\n",
       "      <td>51de85dd-d068-f0bc-7876-91d356176df9</td>\n",
       "      <td>1.00</td>\n",
       "      <td>2023-08-08 00:00:00</td>\n",
       "      <td>2023-08-18 00:00:00</td>\n",
       "      <td>2023-08-18 00:00:00</td>\n",
       "      <td>10.0</td>\n",
       "    </tr>\n",
       "  </tbody>\n",
       "</table>\n",
       "<p>10950 rows × 7 columns</p>\n",
       "</div>"
      ]
     },
     "execution_count": 18,
     "metadata": {},
     "output_type": "execute_result"
    }
   ],
   "execution_count": 18
  },
  {
   "metadata": {
    "ExecuteTime": {
     "end_time": "2024-04-24T17:35:29.749417Z",
     "start_time": "2024-04-24T17:35:29.728561Z"
    }
   },
   "cell_type": "code",
   "source": [
    "courses_passing_df[\"start_dt\"] = pd.to_datetime(courses_passing_df[\"start_dt\"])\n",
    "courses_passing_df[\"last_activity_dt\"] = pd.to_datetime(courses_passing_df[\"last_activity_dt\"])\n",
    "courses_passing_df[\"end_dt\"] = pd.to_datetime(courses_passing_df[\"end_dt\"])"
   ],
   "id": "337e7eba4251cfde",
   "outputs": [],
   "execution_count": 19
  },
  {
   "metadata": {
    "ExecuteTime": {
     "end_time": "2024-04-24T18:51:47.239097Z",
     "start_time": "2024-04-24T18:51:47.166141Z"
    }
   },
   "cell_type": "code",
   "source": [
    "employee_firstday = courses_passing_df.groupby('employee_id').agg({'start_dt':'min', 'employee_id':'min'})\n",
    "employee_firstday"
   ],
   "id": "c60c15a8d01770eb",
   "outputs": [
    {
     "data": {
      "text/plain": [
       "                                       start_dt  \\\n",
       "employee_id                                       \n",
       "00411460-f7c9-2d21-24a6-7ea0f4cb5f85 2023-01-11   \n",
       "006f52e9-102a-8d3b-e2fe-5614f42ba989 2023-03-07   \n",
       "008bd5ad-93b7-54d5-0033-8c253d9c1770 2023-03-13   \n",
       "00a03ec6-533c-a7f5-c644-d198d815329c 2023-01-12   \n",
       "00ac8ed3-b432-7bdd-4ebb-ebcb2ba10a00 2023-02-11   \n",
       "...                                         ...   \n",
       "ff1418e8-cc99-3fe8-abcf-e3ce2003e5c5 2023-03-04   \n",
       "ff49cc40-a889-0e6a-60f4-0ff3026d2730 2023-03-27   \n",
       "fface838-5abb-f94b-4593-a0ed53a0c70f 2023-02-13   \n",
       "ffedf5be-3a86-e2ee-281d-54cdc97bc1cf 2023-02-17   \n",
       "ffeed84c-7cb1-ae7b-f4ec-4bd78275bb98 2023-02-22   \n",
       "\n",
       "                                                               employee_id  \n",
       "employee_id                                                                 \n",
       "00411460-f7c9-2d21-24a6-7ea0f4cb5f85  00411460-f7c9-2d21-24a6-7ea0f4cb5f85  \n",
       "006f52e9-102a-8d3b-e2fe-5614f42ba989  006f52e9-102a-8d3b-e2fe-5614f42ba989  \n",
       "008bd5ad-93b7-54d5-0033-8c253d9c1770  008bd5ad-93b7-54d5-0033-8c253d9c1770  \n",
       "00a03ec6-533c-a7f5-c644-d198d815329c  00a03ec6-533c-a7f5-c644-d198d815329c  \n",
       "00ac8ed3-b432-7bdd-4ebb-ebcb2ba10a00  00ac8ed3-b432-7bdd-4ebb-ebcb2ba10a00  \n",
       "...                                                                    ...  \n",
       "ff1418e8-cc99-3fe8-abcf-e3ce2003e5c5  ff1418e8-cc99-3fe8-abcf-e3ce2003e5c5  \n",
       "ff49cc40-a889-0e6a-60f4-0ff3026d2730  ff49cc40-a889-0e6a-60f4-0ff3026d2730  \n",
       "fface838-5abb-f94b-4593-a0ed53a0c70f  fface838-5abb-f94b-4593-a0ed53a0c70f  \n",
       "ffedf5be-3a86-e2ee-281d-54cdc97bc1cf  ffedf5be-3a86-e2ee-281d-54cdc97bc1cf  \n",
       "ffeed84c-7cb1-ae7b-f4ec-4bd78275bb98  ffeed84c-7cb1-ae7b-f4ec-4bd78275bb98  \n",
       "\n",
       "[1758 rows x 2 columns]"
      ],
      "text/html": [
       "<div>\n",
       "<style scoped>\n",
       "    .dataframe tbody tr th:only-of-type {\n",
       "        vertical-align: middle;\n",
       "    }\n",
       "\n",
       "    .dataframe tbody tr th {\n",
       "        vertical-align: top;\n",
       "    }\n",
       "\n",
       "    .dataframe thead th {\n",
       "        text-align: right;\n",
       "    }\n",
       "</style>\n",
       "<table border=\"1\" class=\"dataframe\">\n",
       "  <thead>\n",
       "    <tr style=\"text-align: right;\">\n",
       "      <th></th>\n",
       "      <th>start_dt</th>\n",
       "      <th>employee_id</th>\n",
       "    </tr>\n",
       "    <tr>\n",
       "      <th>employee_id</th>\n",
       "      <th></th>\n",
       "      <th></th>\n",
       "    </tr>\n",
       "  </thead>\n",
       "  <tbody>\n",
       "    <tr>\n",
       "      <th>00411460-f7c9-2d21-24a6-7ea0f4cb5f85</th>\n",
       "      <td>2023-01-11</td>\n",
       "      <td>00411460-f7c9-2d21-24a6-7ea0f4cb5f85</td>\n",
       "    </tr>\n",
       "    <tr>\n",
       "      <th>006f52e9-102a-8d3b-e2fe-5614f42ba989</th>\n",
       "      <td>2023-03-07</td>\n",
       "      <td>006f52e9-102a-8d3b-e2fe-5614f42ba989</td>\n",
       "    </tr>\n",
       "    <tr>\n",
       "      <th>008bd5ad-93b7-54d5-0033-8c253d9c1770</th>\n",
       "      <td>2023-03-13</td>\n",
       "      <td>008bd5ad-93b7-54d5-0033-8c253d9c1770</td>\n",
       "    </tr>\n",
       "    <tr>\n",
       "      <th>00a03ec6-533c-a7f5-c644-d198d815329c</th>\n",
       "      <td>2023-01-12</td>\n",
       "      <td>00a03ec6-533c-a7f5-c644-d198d815329c</td>\n",
       "    </tr>\n",
       "    <tr>\n",
       "      <th>00ac8ed3-b432-7bdd-4ebb-ebcb2ba10a00</th>\n",
       "      <td>2023-02-11</td>\n",
       "      <td>00ac8ed3-b432-7bdd-4ebb-ebcb2ba10a00</td>\n",
       "    </tr>\n",
       "    <tr>\n",
       "      <th>...</th>\n",
       "      <td>...</td>\n",
       "      <td>...</td>\n",
       "    </tr>\n",
       "    <tr>\n",
       "      <th>ff1418e8-cc99-3fe8-abcf-e3ce2003e5c5</th>\n",
       "      <td>2023-03-04</td>\n",
       "      <td>ff1418e8-cc99-3fe8-abcf-e3ce2003e5c5</td>\n",
       "    </tr>\n",
       "    <tr>\n",
       "      <th>ff49cc40-a889-0e6a-60f4-0ff3026d2730</th>\n",
       "      <td>2023-03-27</td>\n",
       "      <td>ff49cc40-a889-0e6a-60f4-0ff3026d2730</td>\n",
       "    </tr>\n",
       "    <tr>\n",
       "      <th>fface838-5abb-f94b-4593-a0ed53a0c70f</th>\n",
       "      <td>2023-02-13</td>\n",
       "      <td>fface838-5abb-f94b-4593-a0ed53a0c70f</td>\n",
       "    </tr>\n",
       "    <tr>\n",
       "      <th>ffedf5be-3a86-e2ee-281d-54cdc97bc1cf</th>\n",
       "      <td>2023-02-17</td>\n",
       "      <td>ffedf5be-3a86-e2ee-281d-54cdc97bc1cf</td>\n",
       "    </tr>\n",
       "    <tr>\n",
       "      <th>ffeed84c-7cb1-ae7b-f4ec-4bd78275bb98</th>\n",
       "      <td>2023-02-22</td>\n",
       "      <td>ffeed84c-7cb1-ae7b-f4ec-4bd78275bb98</td>\n",
       "    </tr>\n",
       "  </tbody>\n",
       "</table>\n",
       "<p>1758 rows × 2 columns</p>\n",
       "</div>"
      ]
     },
     "execution_count": 53,
     "metadata": {},
     "output_type": "execute_result"
    }
   ],
   "execution_count": 53
  },
  {
   "metadata": {
    "ExecuteTime": {
     "end_time": "2024-04-24T18:54:57.808390Z",
     "start_time": "2024-04-24T18:54:57.798858Z"
    }
   },
   "cell_type": "code",
   "source": [
    "dist_employee_firstday = employee_firstday.groupby('start_dt').agg({'employee_id': 'count'}).query('start_dt >= \"2023-03-01\" and start_dt < \"2023-05-01\"')\n",
    "dist_employee_firstday.agg({'employee_id': ['mean', 'sum']})"
   ],
   "id": "9f536d0f2b7981ba",
   "outputs": [
    {
     "data": {
      "text/plain": [
       "      employee_id\n",
       "mean    11.557377\n",
       "sum    705.000000"
      ],
      "text/html": [
       "<div>\n",
       "<style scoped>\n",
       "    .dataframe tbody tr th:only-of-type {\n",
       "        vertical-align: middle;\n",
       "    }\n",
       "\n",
       "    .dataframe tbody tr th {\n",
       "        vertical-align: top;\n",
       "    }\n",
       "\n",
       "    .dataframe thead th {\n",
       "        text-align: right;\n",
       "    }\n",
       "</style>\n",
       "<table border=\"1\" class=\"dataframe\">\n",
       "  <thead>\n",
       "    <tr style=\"text-align: right;\">\n",
       "      <th></th>\n",
       "      <th>employee_id</th>\n",
       "    </tr>\n",
       "  </thead>\n",
       "  <tbody>\n",
       "    <tr>\n",
       "      <th>mean</th>\n",
       "      <td>11.557377</td>\n",
       "    </tr>\n",
       "    <tr>\n",
       "      <th>sum</th>\n",
       "      <td>705.000000</td>\n",
       "    </tr>\n",
       "  </tbody>\n",
       "</table>\n",
       "</div>"
      ]
     },
     "execution_count": 61,
     "metadata": {},
     "output_type": "execute_result"
    }
   ],
   "execution_count": 61
  },
  {
   "metadata": {
    "ExecuteTime": {
     "end_time": "2024-04-24T18:54:59.754169Z",
     "start_time": "2024-04-24T18:54:59.744921Z"
    }
   },
   "cell_type": "code",
   "source": "dist_employee_firstday",
   "id": "a500f4bcdd9442ee",
   "outputs": [
    {
     "data": {
      "text/plain": [
       "            employee_id\n",
       "start_dt               \n",
       "2023-03-01           17\n",
       "2023-03-02           18\n",
       "2023-03-03           12\n",
       "2023-03-04           18\n",
       "2023-03-05           16\n",
       "...                 ...\n",
       "2023-04-26            7\n",
       "2023-04-27            4\n",
       "2023-04-28            9\n",
       "2023-04-29            5\n",
       "2023-04-30            8\n",
       "\n",
       "[61 rows x 1 columns]"
      ],
      "text/html": [
       "<div>\n",
       "<style scoped>\n",
       "    .dataframe tbody tr th:only-of-type {\n",
       "        vertical-align: middle;\n",
       "    }\n",
       "\n",
       "    .dataframe tbody tr th {\n",
       "        vertical-align: top;\n",
       "    }\n",
       "\n",
       "    .dataframe thead th {\n",
       "        text-align: right;\n",
       "    }\n",
       "</style>\n",
       "<table border=\"1\" class=\"dataframe\">\n",
       "  <thead>\n",
       "    <tr style=\"text-align: right;\">\n",
       "      <th></th>\n",
       "      <th>employee_id</th>\n",
       "    </tr>\n",
       "    <tr>\n",
       "      <th>start_dt</th>\n",
       "      <th></th>\n",
       "    </tr>\n",
       "  </thead>\n",
       "  <tbody>\n",
       "    <tr>\n",
       "      <th>2023-03-01</th>\n",
       "      <td>17</td>\n",
       "    </tr>\n",
       "    <tr>\n",
       "      <th>2023-03-02</th>\n",
       "      <td>18</td>\n",
       "    </tr>\n",
       "    <tr>\n",
       "      <th>2023-03-03</th>\n",
       "      <td>12</td>\n",
       "    </tr>\n",
       "    <tr>\n",
       "      <th>2023-03-04</th>\n",
       "      <td>18</td>\n",
       "    </tr>\n",
       "    <tr>\n",
       "      <th>2023-03-05</th>\n",
       "      <td>16</td>\n",
       "    </tr>\n",
       "    <tr>\n",
       "      <th>...</th>\n",
       "      <td>...</td>\n",
       "    </tr>\n",
       "    <tr>\n",
       "      <th>2023-04-26</th>\n",
       "      <td>7</td>\n",
       "    </tr>\n",
       "    <tr>\n",
       "      <th>2023-04-27</th>\n",
       "      <td>4</td>\n",
       "    </tr>\n",
       "    <tr>\n",
       "      <th>2023-04-28</th>\n",
       "      <td>9</td>\n",
       "    </tr>\n",
       "    <tr>\n",
       "      <th>2023-04-29</th>\n",
       "      <td>5</td>\n",
       "    </tr>\n",
       "    <tr>\n",
       "      <th>2023-04-30</th>\n",
       "      <td>8</td>\n",
       "    </tr>\n",
       "  </tbody>\n",
       "</table>\n",
       "<p>61 rows × 1 columns</p>\n",
       "</div>"
      ]
     },
     "execution_count": 62,
     "metadata": {},
     "output_type": "execute_result"
    }
   ],
   "execution_count": 62
  },
  {
   "metadata": {
    "ExecuteTime": {
     "end_time": "2024-04-24T19:13:07.990017Z",
     "start_time": "2024-04-24T19:13:07.921228Z"
    }
   },
   "cell_type": "code",
   "source": "px.bar(x = list(dist_employee_firstday.index), y = dist_employee_firstday['employee_id'])",
   "id": "fc34307e9e4b4ce",
   "outputs": [
    {
     "data": {
      "application/vnd.plotly.v1+json": {
       "data": [
        {
         "alignmentgroup": "True",
         "hovertemplate": "x=%{x}<br>y=%{y}<extra></extra>",
         "legendgroup": "",
         "marker": {
          "color": "#636efa",
          "pattern": {
           "shape": ""
          }
         },
         "name": "",
         "offsetgroup": "",
         "orientation": "v",
         "showlegend": false,
         "textposition": "auto",
         "x": [
          "2023-03-01T00:00:00",
          "2023-03-02T00:00:00",
          "2023-03-03T00:00:00",
          "2023-03-04T00:00:00",
          "2023-03-05T00:00:00",
          "2023-03-06T00:00:00",
          "2023-03-07T00:00:00",
          "2023-03-08T00:00:00",
          "2023-03-09T00:00:00",
          "2023-03-10T00:00:00",
          "2023-03-11T00:00:00",
          "2023-03-12T00:00:00",
          "2023-03-13T00:00:00",
          "2023-03-14T00:00:00",
          "2023-03-15T00:00:00",
          "2023-03-16T00:00:00",
          "2023-03-17T00:00:00",
          "2023-03-18T00:00:00",
          "2023-03-19T00:00:00",
          "2023-03-20T00:00:00",
          "2023-03-21T00:00:00",
          "2023-03-22T00:00:00",
          "2023-03-23T00:00:00",
          "2023-03-24T00:00:00",
          "2023-03-25T00:00:00",
          "2023-03-26T00:00:00",
          "2023-03-27T00:00:00",
          "2023-03-28T00:00:00",
          "2023-03-29T00:00:00",
          "2023-03-30T00:00:00",
          "2023-03-31T00:00:00",
          "2023-04-01T00:00:00",
          "2023-04-02T00:00:00",
          "2023-04-03T00:00:00",
          "2023-04-04T00:00:00",
          "2023-04-05T00:00:00",
          "2023-04-06T00:00:00",
          "2023-04-07T00:00:00",
          "2023-04-08T00:00:00",
          "2023-04-09T00:00:00",
          "2023-04-10T00:00:00",
          "2023-04-11T00:00:00",
          "2023-04-12T00:00:00",
          "2023-04-13T00:00:00",
          "2023-04-14T00:00:00",
          "2023-04-15T00:00:00",
          "2023-04-16T00:00:00",
          "2023-04-17T00:00:00",
          "2023-04-18T00:00:00",
          "2023-04-19T00:00:00",
          "2023-04-20T00:00:00",
          "2023-04-21T00:00:00",
          "2023-04-22T00:00:00",
          "2023-04-23T00:00:00",
          "2023-04-24T00:00:00",
          "2023-04-25T00:00:00",
          "2023-04-26T00:00:00",
          "2023-04-27T00:00:00",
          "2023-04-28T00:00:00",
          "2023-04-29T00:00:00",
          "2023-04-30T00:00:00"
         ],
         "xaxis": "x",
         "y": [
          17,
          18,
          12,
          18,
          16,
          13,
          9,
          14,
          15,
          9,
          15,
          12,
          13,
          11,
          9,
          11,
          14,
          11,
          11,
          12,
          8,
          20,
          9,
          12,
          17,
          19,
          11,
          15,
          15,
          14,
          8,
          14,
          12,
          9,
          11,
          15,
          11,
          12,
          11,
          15,
          6,
          16,
          10,
          8,
          13,
          16,
          9,
          10,
          6,
          12,
          12,
          7,
          5,
          9,
          10,
          5,
          7,
          4,
          9,
          5,
          8
         ],
         "yaxis": "y",
         "type": "bar"
        }
       ],
       "layout": {
        "template": {
         "data": {
          "histogram2dcontour": [
           {
            "type": "histogram2dcontour",
            "colorbar": {
             "outlinewidth": 0,
             "ticks": ""
            },
            "colorscale": [
             [
              0.0,
              "#0d0887"
             ],
             [
              0.1111111111111111,
              "#46039f"
             ],
             [
              0.2222222222222222,
              "#7201a8"
             ],
             [
              0.3333333333333333,
              "#9c179e"
             ],
             [
              0.4444444444444444,
              "#bd3786"
             ],
             [
              0.5555555555555556,
              "#d8576b"
             ],
             [
              0.6666666666666666,
              "#ed7953"
             ],
             [
              0.7777777777777778,
              "#fb9f3a"
             ],
             [
              0.8888888888888888,
              "#fdca26"
             ],
             [
              1.0,
              "#f0f921"
             ]
            ]
           }
          ],
          "choropleth": [
           {
            "type": "choropleth",
            "colorbar": {
             "outlinewidth": 0,
             "ticks": ""
            }
           }
          ],
          "histogram2d": [
           {
            "type": "histogram2d",
            "colorbar": {
             "outlinewidth": 0,
             "ticks": ""
            },
            "colorscale": [
             [
              0.0,
              "#0d0887"
             ],
             [
              0.1111111111111111,
              "#46039f"
             ],
             [
              0.2222222222222222,
              "#7201a8"
             ],
             [
              0.3333333333333333,
              "#9c179e"
             ],
             [
              0.4444444444444444,
              "#bd3786"
             ],
             [
              0.5555555555555556,
              "#d8576b"
             ],
             [
              0.6666666666666666,
              "#ed7953"
             ],
             [
              0.7777777777777778,
              "#fb9f3a"
             ],
             [
              0.8888888888888888,
              "#fdca26"
             ],
             [
              1.0,
              "#f0f921"
             ]
            ]
           }
          ],
          "heatmap": [
           {
            "type": "heatmap",
            "colorbar": {
             "outlinewidth": 0,
             "ticks": ""
            },
            "colorscale": [
             [
              0.0,
              "#0d0887"
             ],
             [
              0.1111111111111111,
              "#46039f"
             ],
             [
              0.2222222222222222,
              "#7201a8"
             ],
             [
              0.3333333333333333,
              "#9c179e"
             ],
             [
              0.4444444444444444,
              "#bd3786"
             ],
             [
              0.5555555555555556,
              "#d8576b"
             ],
             [
              0.6666666666666666,
              "#ed7953"
             ],
             [
              0.7777777777777778,
              "#fb9f3a"
             ],
             [
              0.8888888888888888,
              "#fdca26"
             ],
             [
              1.0,
              "#f0f921"
             ]
            ]
           }
          ],
          "heatmapgl": [
           {
            "type": "heatmapgl",
            "colorbar": {
             "outlinewidth": 0,
             "ticks": ""
            },
            "colorscale": [
             [
              0.0,
              "#0d0887"
             ],
             [
              0.1111111111111111,
              "#46039f"
             ],
             [
              0.2222222222222222,
              "#7201a8"
             ],
             [
              0.3333333333333333,
              "#9c179e"
             ],
             [
              0.4444444444444444,
              "#bd3786"
             ],
             [
              0.5555555555555556,
              "#d8576b"
             ],
             [
              0.6666666666666666,
              "#ed7953"
             ],
             [
              0.7777777777777778,
              "#fb9f3a"
             ],
             [
              0.8888888888888888,
              "#fdca26"
             ],
             [
              1.0,
              "#f0f921"
             ]
            ]
           }
          ],
          "contourcarpet": [
           {
            "type": "contourcarpet",
            "colorbar": {
             "outlinewidth": 0,
             "ticks": ""
            }
           }
          ],
          "contour": [
           {
            "type": "contour",
            "colorbar": {
             "outlinewidth": 0,
             "ticks": ""
            },
            "colorscale": [
             [
              0.0,
              "#0d0887"
             ],
             [
              0.1111111111111111,
              "#46039f"
             ],
             [
              0.2222222222222222,
              "#7201a8"
             ],
             [
              0.3333333333333333,
              "#9c179e"
             ],
             [
              0.4444444444444444,
              "#bd3786"
             ],
             [
              0.5555555555555556,
              "#d8576b"
             ],
             [
              0.6666666666666666,
              "#ed7953"
             ],
             [
              0.7777777777777778,
              "#fb9f3a"
             ],
             [
              0.8888888888888888,
              "#fdca26"
             ],
             [
              1.0,
              "#f0f921"
             ]
            ]
           }
          ],
          "surface": [
           {
            "type": "surface",
            "colorbar": {
             "outlinewidth": 0,
             "ticks": ""
            },
            "colorscale": [
             [
              0.0,
              "#0d0887"
             ],
             [
              0.1111111111111111,
              "#46039f"
             ],
             [
              0.2222222222222222,
              "#7201a8"
             ],
             [
              0.3333333333333333,
              "#9c179e"
             ],
             [
              0.4444444444444444,
              "#bd3786"
             ],
             [
              0.5555555555555556,
              "#d8576b"
             ],
             [
              0.6666666666666666,
              "#ed7953"
             ],
             [
              0.7777777777777778,
              "#fb9f3a"
             ],
             [
              0.8888888888888888,
              "#fdca26"
             ],
             [
              1.0,
              "#f0f921"
             ]
            ]
           }
          ],
          "mesh3d": [
           {
            "type": "mesh3d",
            "colorbar": {
             "outlinewidth": 0,
             "ticks": ""
            }
           }
          ],
          "scatter": [
           {
            "fillpattern": {
             "fillmode": "overlay",
             "size": 10,
             "solidity": 0.2
            },
            "type": "scatter"
           }
          ],
          "parcoords": [
           {
            "type": "parcoords",
            "line": {
             "colorbar": {
              "outlinewidth": 0,
              "ticks": ""
             }
            }
           }
          ],
          "scatterpolargl": [
           {
            "type": "scatterpolargl",
            "marker": {
             "colorbar": {
              "outlinewidth": 0,
              "ticks": ""
             }
            }
           }
          ],
          "bar": [
           {
            "error_x": {
             "color": "#2a3f5f"
            },
            "error_y": {
             "color": "#2a3f5f"
            },
            "marker": {
             "line": {
              "color": "#E5ECF6",
              "width": 0.5
             },
             "pattern": {
              "fillmode": "overlay",
              "size": 10,
              "solidity": 0.2
             }
            },
            "type": "bar"
           }
          ],
          "scattergeo": [
           {
            "type": "scattergeo",
            "marker": {
             "colorbar": {
              "outlinewidth": 0,
              "ticks": ""
             }
            }
           }
          ],
          "scatterpolar": [
           {
            "type": "scatterpolar",
            "marker": {
             "colorbar": {
              "outlinewidth": 0,
              "ticks": ""
             }
            }
           }
          ],
          "histogram": [
           {
            "marker": {
             "pattern": {
              "fillmode": "overlay",
              "size": 10,
              "solidity": 0.2
             }
            },
            "type": "histogram"
           }
          ],
          "scattergl": [
           {
            "type": "scattergl",
            "marker": {
             "colorbar": {
              "outlinewidth": 0,
              "ticks": ""
             }
            }
           }
          ],
          "scatter3d": [
           {
            "type": "scatter3d",
            "line": {
             "colorbar": {
              "outlinewidth": 0,
              "ticks": ""
             }
            },
            "marker": {
             "colorbar": {
              "outlinewidth": 0,
              "ticks": ""
             }
            }
           }
          ],
          "scattermapbox": [
           {
            "type": "scattermapbox",
            "marker": {
             "colorbar": {
              "outlinewidth": 0,
              "ticks": ""
             }
            }
           }
          ],
          "scatterternary": [
           {
            "type": "scatterternary",
            "marker": {
             "colorbar": {
              "outlinewidth": 0,
              "ticks": ""
             }
            }
           }
          ],
          "scattercarpet": [
           {
            "type": "scattercarpet",
            "marker": {
             "colorbar": {
              "outlinewidth": 0,
              "ticks": ""
             }
            }
           }
          ],
          "carpet": [
           {
            "aaxis": {
             "endlinecolor": "#2a3f5f",
             "gridcolor": "white",
             "linecolor": "white",
             "minorgridcolor": "white",
             "startlinecolor": "#2a3f5f"
            },
            "baxis": {
             "endlinecolor": "#2a3f5f",
             "gridcolor": "white",
             "linecolor": "white",
             "minorgridcolor": "white",
             "startlinecolor": "#2a3f5f"
            },
            "type": "carpet"
           }
          ],
          "table": [
           {
            "cells": {
             "fill": {
              "color": "#EBF0F8"
             },
             "line": {
              "color": "white"
             }
            },
            "header": {
             "fill": {
              "color": "#C8D4E3"
             },
             "line": {
              "color": "white"
             }
            },
            "type": "table"
           }
          ],
          "barpolar": [
           {
            "marker": {
             "line": {
              "color": "#E5ECF6",
              "width": 0.5
             },
             "pattern": {
              "fillmode": "overlay",
              "size": 10,
              "solidity": 0.2
             }
            },
            "type": "barpolar"
           }
          ],
          "pie": [
           {
            "automargin": true,
            "type": "pie"
           }
          ]
         },
         "layout": {
          "autotypenumbers": "strict",
          "colorway": [
           "#636efa",
           "#EF553B",
           "#00cc96",
           "#ab63fa",
           "#FFA15A",
           "#19d3f3",
           "#FF6692",
           "#B6E880",
           "#FF97FF",
           "#FECB52"
          ],
          "font": {
           "color": "#2a3f5f"
          },
          "hovermode": "closest",
          "hoverlabel": {
           "align": "left"
          },
          "paper_bgcolor": "white",
          "plot_bgcolor": "#E5ECF6",
          "polar": {
           "bgcolor": "#E5ECF6",
           "angularaxis": {
            "gridcolor": "white",
            "linecolor": "white",
            "ticks": ""
           },
           "radialaxis": {
            "gridcolor": "white",
            "linecolor": "white",
            "ticks": ""
           }
          },
          "ternary": {
           "bgcolor": "#E5ECF6",
           "aaxis": {
            "gridcolor": "white",
            "linecolor": "white",
            "ticks": ""
           },
           "baxis": {
            "gridcolor": "white",
            "linecolor": "white",
            "ticks": ""
           },
           "caxis": {
            "gridcolor": "white",
            "linecolor": "white",
            "ticks": ""
           }
          },
          "coloraxis": {
           "colorbar": {
            "outlinewidth": 0,
            "ticks": ""
           }
          },
          "colorscale": {
           "sequential": [
            [
             0.0,
             "#0d0887"
            ],
            [
             0.1111111111111111,
             "#46039f"
            ],
            [
             0.2222222222222222,
             "#7201a8"
            ],
            [
             0.3333333333333333,
             "#9c179e"
            ],
            [
             0.4444444444444444,
             "#bd3786"
            ],
            [
             0.5555555555555556,
             "#d8576b"
            ],
            [
             0.6666666666666666,
             "#ed7953"
            ],
            [
             0.7777777777777778,
             "#fb9f3a"
            ],
            [
             0.8888888888888888,
             "#fdca26"
            ],
            [
             1.0,
             "#f0f921"
            ]
           ],
           "sequentialminus": [
            [
             0.0,
             "#0d0887"
            ],
            [
             0.1111111111111111,
             "#46039f"
            ],
            [
             0.2222222222222222,
             "#7201a8"
            ],
            [
             0.3333333333333333,
             "#9c179e"
            ],
            [
             0.4444444444444444,
             "#bd3786"
            ],
            [
             0.5555555555555556,
             "#d8576b"
            ],
            [
             0.6666666666666666,
             "#ed7953"
            ],
            [
             0.7777777777777778,
             "#fb9f3a"
            ],
            [
             0.8888888888888888,
             "#fdca26"
            ],
            [
             1.0,
             "#f0f921"
            ]
           ],
           "diverging": [
            [
             0,
             "#8e0152"
            ],
            [
             0.1,
             "#c51b7d"
            ],
            [
             0.2,
             "#de77ae"
            ],
            [
             0.3,
             "#f1b6da"
            ],
            [
             0.4,
             "#fde0ef"
            ],
            [
             0.5,
             "#f7f7f7"
            ],
            [
             0.6,
             "#e6f5d0"
            ],
            [
             0.7,
             "#b8e186"
            ],
            [
             0.8,
             "#7fbc41"
            ],
            [
             0.9,
             "#4d9221"
            ],
            [
             1,
             "#276419"
            ]
           ]
          },
          "xaxis": {
           "gridcolor": "white",
           "linecolor": "white",
           "ticks": "",
           "title": {
            "standoff": 15
           },
           "zerolinecolor": "white",
           "automargin": true,
           "zerolinewidth": 2
          },
          "yaxis": {
           "gridcolor": "white",
           "linecolor": "white",
           "ticks": "",
           "title": {
            "standoff": 15
           },
           "zerolinecolor": "white",
           "automargin": true,
           "zerolinewidth": 2
          },
          "scene": {
           "xaxis": {
            "backgroundcolor": "#E5ECF6",
            "gridcolor": "white",
            "linecolor": "white",
            "showbackground": true,
            "ticks": "",
            "zerolinecolor": "white",
            "gridwidth": 2
           },
           "yaxis": {
            "backgroundcolor": "#E5ECF6",
            "gridcolor": "white",
            "linecolor": "white",
            "showbackground": true,
            "ticks": "",
            "zerolinecolor": "white",
            "gridwidth": 2
           },
           "zaxis": {
            "backgroundcolor": "#E5ECF6",
            "gridcolor": "white",
            "linecolor": "white",
            "showbackground": true,
            "ticks": "",
            "zerolinecolor": "white",
            "gridwidth": 2
           }
          },
          "shapedefaults": {
           "line": {
            "color": "#2a3f5f"
           }
          },
          "annotationdefaults": {
           "arrowcolor": "#2a3f5f",
           "arrowhead": 0,
           "arrowwidth": 1
          },
          "geo": {
           "bgcolor": "white",
           "landcolor": "#E5ECF6",
           "subunitcolor": "white",
           "showland": true,
           "showlakes": true,
           "lakecolor": "white"
          },
          "title": {
           "x": 0.05
          },
          "mapbox": {
           "style": "light"
          }
         }
        },
        "xaxis": {
         "anchor": "y",
         "domain": [
          0.0,
          1.0
         ],
         "title": {
          "text": "x"
         }
        },
        "yaxis": {
         "anchor": "x",
         "domain": [
          0.0,
          1.0
         ],
         "title": {
          "text": "y"
         }
        },
        "legend": {
         "tracegroupgap": 0
        },
        "margin": {
         "t": 60
        },
        "barmode": "relative"
       },
       "config": {
        "plotlyServerURL": "https://plot.ly"
       }
      },
      "text/html": [
       "<div>                            <div id=\"f9434d03-7c2d-4c36-b459-edea86607268\" class=\"plotly-graph-div\" style=\"height:525px; width:100%;\"></div>            <script type=\"text/javascript\">                require([\"plotly\"], function(Plotly) {                    window.PLOTLYENV=window.PLOTLYENV || {};                                    if (document.getElementById(\"f9434d03-7c2d-4c36-b459-edea86607268\")) {                    Plotly.newPlot(                        \"f9434d03-7c2d-4c36-b459-edea86607268\",                        [{\"alignmentgroup\":\"True\",\"hovertemplate\":\"x=%{x}\\u003cbr\\u003ey=%{y}\\u003cextra\\u003e\\u003c\\u002fextra\\u003e\",\"legendgroup\":\"\",\"marker\":{\"color\":\"#636efa\",\"pattern\":{\"shape\":\"\"}},\"name\":\"\",\"offsetgroup\":\"\",\"orientation\":\"v\",\"showlegend\":false,\"textposition\":\"auto\",\"x\":[\"2023-03-01T00:00:00\",\"2023-03-02T00:00:00\",\"2023-03-03T00:00:00\",\"2023-03-04T00:00:00\",\"2023-03-05T00:00:00\",\"2023-03-06T00:00:00\",\"2023-03-07T00:00:00\",\"2023-03-08T00:00:00\",\"2023-03-09T00:00:00\",\"2023-03-10T00:00:00\",\"2023-03-11T00:00:00\",\"2023-03-12T00:00:00\",\"2023-03-13T00:00:00\",\"2023-03-14T00:00:00\",\"2023-03-15T00:00:00\",\"2023-03-16T00:00:00\",\"2023-03-17T00:00:00\",\"2023-03-18T00:00:00\",\"2023-03-19T00:00:00\",\"2023-03-20T00:00:00\",\"2023-03-21T00:00:00\",\"2023-03-22T00:00:00\",\"2023-03-23T00:00:00\",\"2023-03-24T00:00:00\",\"2023-03-25T00:00:00\",\"2023-03-26T00:00:00\",\"2023-03-27T00:00:00\",\"2023-03-28T00:00:00\",\"2023-03-29T00:00:00\",\"2023-03-30T00:00:00\",\"2023-03-31T00:00:00\",\"2023-04-01T00:00:00\",\"2023-04-02T00:00:00\",\"2023-04-03T00:00:00\",\"2023-04-04T00:00:00\",\"2023-04-05T00:00:00\",\"2023-04-06T00:00:00\",\"2023-04-07T00:00:00\",\"2023-04-08T00:00:00\",\"2023-04-09T00:00:00\",\"2023-04-10T00:00:00\",\"2023-04-11T00:00:00\",\"2023-04-12T00:00:00\",\"2023-04-13T00:00:00\",\"2023-04-14T00:00:00\",\"2023-04-15T00:00:00\",\"2023-04-16T00:00:00\",\"2023-04-17T00:00:00\",\"2023-04-18T00:00:00\",\"2023-04-19T00:00:00\",\"2023-04-20T00:00:00\",\"2023-04-21T00:00:00\",\"2023-04-22T00:00:00\",\"2023-04-23T00:00:00\",\"2023-04-24T00:00:00\",\"2023-04-25T00:00:00\",\"2023-04-26T00:00:00\",\"2023-04-27T00:00:00\",\"2023-04-28T00:00:00\",\"2023-04-29T00:00:00\",\"2023-04-30T00:00:00\"],\"xaxis\":\"x\",\"y\":[17,18,12,18,16,13,9,14,15,9,15,12,13,11,9,11,14,11,11,12,8,20,9,12,17,19,11,15,15,14,8,14,12,9,11,15,11,12,11,15,6,16,10,8,13,16,9,10,6,12,12,7,5,9,10,5,7,4,9,5,8],\"yaxis\":\"y\",\"type\":\"bar\"}],                        {\"template\":{\"data\":{\"histogram2dcontour\":[{\"type\":\"histogram2dcontour\",\"colorbar\":{\"outlinewidth\":0,\"ticks\":\"\"},\"colorscale\":[[0.0,\"#0d0887\"],[0.1111111111111111,\"#46039f\"],[0.2222222222222222,\"#7201a8\"],[0.3333333333333333,\"#9c179e\"],[0.4444444444444444,\"#bd3786\"],[0.5555555555555556,\"#d8576b\"],[0.6666666666666666,\"#ed7953\"],[0.7777777777777778,\"#fb9f3a\"],[0.8888888888888888,\"#fdca26\"],[1.0,\"#f0f921\"]]}],\"choropleth\":[{\"type\":\"choropleth\",\"colorbar\":{\"outlinewidth\":0,\"ticks\":\"\"}}],\"histogram2d\":[{\"type\":\"histogram2d\",\"colorbar\":{\"outlinewidth\":0,\"ticks\":\"\"},\"colorscale\":[[0.0,\"#0d0887\"],[0.1111111111111111,\"#46039f\"],[0.2222222222222222,\"#7201a8\"],[0.3333333333333333,\"#9c179e\"],[0.4444444444444444,\"#bd3786\"],[0.5555555555555556,\"#d8576b\"],[0.6666666666666666,\"#ed7953\"],[0.7777777777777778,\"#fb9f3a\"],[0.8888888888888888,\"#fdca26\"],[1.0,\"#f0f921\"]]}],\"heatmap\":[{\"type\":\"heatmap\",\"colorbar\":{\"outlinewidth\":0,\"ticks\":\"\"},\"colorscale\":[[0.0,\"#0d0887\"],[0.1111111111111111,\"#46039f\"],[0.2222222222222222,\"#7201a8\"],[0.3333333333333333,\"#9c179e\"],[0.4444444444444444,\"#bd3786\"],[0.5555555555555556,\"#d8576b\"],[0.6666666666666666,\"#ed7953\"],[0.7777777777777778,\"#fb9f3a\"],[0.8888888888888888,\"#fdca26\"],[1.0,\"#f0f921\"]]}],\"heatmapgl\":[{\"type\":\"heatmapgl\",\"colorbar\":{\"outlinewidth\":0,\"ticks\":\"\"},\"colorscale\":[[0.0,\"#0d0887\"],[0.1111111111111111,\"#46039f\"],[0.2222222222222222,\"#7201a8\"],[0.3333333333333333,\"#9c179e\"],[0.4444444444444444,\"#bd3786\"],[0.5555555555555556,\"#d8576b\"],[0.6666666666666666,\"#ed7953\"],[0.7777777777777778,\"#fb9f3a\"],[0.8888888888888888,\"#fdca26\"],[1.0,\"#f0f921\"]]}],\"contourcarpet\":[{\"type\":\"contourcarpet\",\"colorbar\":{\"outlinewidth\":0,\"ticks\":\"\"}}],\"contour\":[{\"type\":\"contour\",\"colorbar\":{\"outlinewidth\":0,\"ticks\":\"\"},\"colorscale\":[[0.0,\"#0d0887\"],[0.1111111111111111,\"#46039f\"],[0.2222222222222222,\"#7201a8\"],[0.3333333333333333,\"#9c179e\"],[0.4444444444444444,\"#bd3786\"],[0.5555555555555556,\"#d8576b\"],[0.6666666666666666,\"#ed7953\"],[0.7777777777777778,\"#fb9f3a\"],[0.8888888888888888,\"#fdca26\"],[1.0,\"#f0f921\"]]}],\"surface\":[{\"type\":\"surface\",\"colorbar\":{\"outlinewidth\":0,\"ticks\":\"\"},\"colorscale\":[[0.0,\"#0d0887\"],[0.1111111111111111,\"#46039f\"],[0.2222222222222222,\"#7201a8\"],[0.3333333333333333,\"#9c179e\"],[0.4444444444444444,\"#bd3786\"],[0.5555555555555556,\"#d8576b\"],[0.6666666666666666,\"#ed7953\"],[0.7777777777777778,\"#fb9f3a\"],[0.8888888888888888,\"#fdca26\"],[1.0,\"#f0f921\"]]}],\"mesh3d\":[{\"type\":\"mesh3d\",\"colorbar\":{\"outlinewidth\":0,\"ticks\":\"\"}}],\"scatter\":[{\"fillpattern\":{\"fillmode\":\"overlay\",\"size\":10,\"solidity\":0.2},\"type\":\"scatter\"}],\"parcoords\":[{\"type\":\"parcoords\",\"line\":{\"colorbar\":{\"outlinewidth\":0,\"ticks\":\"\"}}}],\"scatterpolargl\":[{\"type\":\"scatterpolargl\",\"marker\":{\"colorbar\":{\"outlinewidth\":0,\"ticks\":\"\"}}}],\"bar\":[{\"error_x\":{\"color\":\"#2a3f5f\"},\"error_y\":{\"color\":\"#2a3f5f\"},\"marker\":{\"line\":{\"color\":\"#E5ECF6\",\"width\":0.5},\"pattern\":{\"fillmode\":\"overlay\",\"size\":10,\"solidity\":0.2}},\"type\":\"bar\"}],\"scattergeo\":[{\"type\":\"scattergeo\",\"marker\":{\"colorbar\":{\"outlinewidth\":0,\"ticks\":\"\"}}}],\"scatterpolar\":[{\"type\":\"scatterpolar\",\"marker\":{\"colorbar\":{\"outlinewidth\":0,\"ticks\":\"\"}}}],\"histogram\":[{\"marker\":{\"pattern\":{\"fillmode\":\"overlay\",\"size\":10,\"solidity\":0.2}},\"type\":\"histogram\"}],\"scattergl\":[{\"type\":\"scattergl\",\"marker\":{\"colorbar\":{\"outlinewidth\":0,\"ticks\":\"\"}}}],\"scatter3d\":[{\"type\":\"scatter3d\",\"line\":{\"colorbar\":{\"outlinewidth\":0,\"ticks\":\"\"}},\"marker\":{\"colorbar\":{\"outlinewidth\":0,\"ticks\":\"\"}}}],\"scattermapbox\":[{\"type\":\"scattermapbox\",\"marker\":{\"colorbar\":{\"outlinewidth\":0,\"ticks\":\"\"}}}],\"scatterternary\":[{\"type\":\"scatterternary\",\"marker\":{\"colorbar\":{\"outlinewidth\":0,\"ticks\":\"\"}}}],\"scattercarpet\":[{\"type\":\"scattercarpet\",\"marker\":{\"colorbar\":{\"outlinewidth\":0,\"ticks\":\"\"}}}],\"carpet\":[{\"aaxis\":{\"endlinecolor\":\"#2a3f5f\",\"gridcolor\":\"white\",\"linecolor\":\"white\",\"minorgridcolor\":\"white\",\"startlinecolor\":\"#2a3f5f\"},\"baxis\":{\"endlinecolor\":\"#2a3f5f\",\"gridcolor\":\"white\",\"linecolor\":\"white\",\"minorgridcolor\":\"white\",\"startlinecolor\":\"#2a3f5f\"},\"type\":\"carpet\"}],\"table\":[{\"cells\":{\"fill\":{\"color\":\"#EBF0F8\"},\"line\":{\"color\":\"white\"}},\"header\":{\"fill\":{\"color\":\"#C8D4E3\"},\"line\":{\"color\":\"white\"}},\"type\":\"table\"}],\"barpolar\":[{\"marker\":{\"line\":{\"color\":\"#E5ECF6\",\"width\":0.5},\"pattern\":{\"fillmode\":\"overlay\",\"size\":10,\"solidity\":0.2}},\"type\":\"barpolar\"}],\"pie\":[{\"automargin\":true,\"type\":\"pie\"}]},\"layout\":{\"autotypenumbers\":\"strict\",\"colorway\":[\"#636efa\",\"#EF553B\",\"#00cc96\",\"#ab63fa\",\"#FFA15A\",\"#19d3f3\",\"#FF6692\",\"#B6E880\",\"#FF97FF\",\"#FECB52\"],\"font\":{\"color\":\"#2a3f5f\"},\"hovermode\":\"closest\",\"hoverlabel\":{\"align\":\"left\"},\"paper_bgcolor\":\"white\",\"plot_bgcolor\":\"#E5ECF6\",\"polar\":{\"bgcolor\":\"#E5ECF6\",\"angularaxis\":{\"gridcolor\":\"white\",\"linecolor\":\"white\",\"ticks\":\"\"},\"radialaxis\":{\"gridcolor\":\"white\",\"linecolor\":\"white\",\"ticks\":\"\"}},\"ternary\":{\"bgcolor\":\"#E5ECF6\",\"aaxis\":{\"gridcolor\":\"white\",\"linecolor\":\"white\",\"ticks\":\"\"},\"baxis\":{\"gridcolor\":\"white\",\"linecolor\":\"white\",\"ticks\":\"\"},\"caxis\":{\"gridcolor\":\"white\",\"linecolor\":\"white\",\"ticks\":\"\"}},\"coloraxis\":{\"colorbar\":{\"outlinewidth\":0,\"ticks\":\"\"}},\"colorscale\":{\"sequential\":[[0.0,\"#0d0887\"],[0.1111111111111111,\"#46039f\"],[0.2222222222222222,\"#7201a8\"],[0.3333333333333333,\"#9c179e\"],[0.4444444444444444,\"#bd3786\"],[0.5555555555555556,\"#d8576b\"],[0.6666666666666666,\"#ed7953\"],[0.7777777777777778,\"#fb9f3a\"],[0.8888888888888888,\"#fdca26\"],[1.0,\"#f0f921\"]],\"sequentialminus\":[[0.0,\"#0d0887\"],[0.1111111111111111,\"#46039f\"],[0.2222222222222222,\"#7201a8\"],[0.3333333333333333,\"#9c179e\"],[0.4444444444444444,\"#bd3786\"],[0.5555555555555556,\"#d8576b\"],[0.6666666666666666,\"#ed7953\"],[0.7777777777777778,\"#fb9f3a\"],[0.8888888888888888,\"#fdca26\"],[1.0,\"#f0f921\"]],\"diverging\":[[0,\"#8e0152\"],[0.1,\"#c51b7d\"],[0.2,\"#de77ae\"],[0.3,\"#f1b6da\"],[0.4,\"#fde0ef\"],[0.5,\"#f7f7f7\"],[0.6,\"#e6f5d0\"],[0.7,\"#b8e186\"],[0.8,\"#7fbc41\"],[0.9,\"#4d9221\"],[1,\"#276419\"]]},\"xaxis\":{\"gridcolor\":\"white\",\"linecolor\":\"white\",\"ticks\":\"\",\"title\":{\"standoff\":15},\"zerolinecolor\":\"white\",\"automargin\":true,\"zerolinewidth\":2},\"yaxis\":{\"gridcolor\":\"white\",\"linecolor\":\"white\",\"ticks\":\"\",\"title\":{\"standoff\":15},\"zerolinecolor\":\"white\",\"automargin\":true,\"zerolinewidth\":2},\"scene\":{\"xaxis\":{\"backgroundcolor\":\"#E5ECF6\",\"gridcolor\":\"white\",\"linecolor\":\"white\",\"showbackground\":true,\"ticks\":\"\",\"zerolinecolor\":\"white\",\"gridwidth\":2},\"yaxis\":{\"backgroundcolor\":\"#E5ECF6\",\"gridcolor\":\"white\",\"linecolor\":\"white\",\"showbackground\":true,\"ticks\":\"\",\"zerolinecolor\":\"white\",\"gridwidth\":2},\"zaxis\":{\"backgroundcolor\":\"#E5ECF6\",\"gridcolor\":\"white\",\"linecolor\":\"white\",\"showbackground\":true,\"ticks\":\"\",\"zerolinecolor\":\"white\",\"gridwidth\":2}},\"shapedefaults\":{\"line\":{\"color\":\"#2a3f5f\"}},\"annotationdefaults\":{\"arrowcolor\":\"#2a3f5f\",\"arrowhead\":0,\"arrowwidth\":1},\"geo\":{\"bgcolor\":\"white\",\"landcolor\":\"#E5ECF6\",\"subunitcolor\":\"white\",\"showland\":true,\"showlakes\":true,\"lakecolor\":\"white\"},\"title\":{\"x\":0.05},\"mapbox\":{\"style\":\"light\"}}},\"xaxis\":{\"anchor\":\"y\",\"domain\":[0.0,1.0],\"title\":{\"text\":\"x\"}},\"yaxis\":{\"anchor\":\"x\",\"domain\":[0.0,1.0],\"title\":{\"text\":\"y\"}},\"legend\":{\"tracegroupgap\":0},\"margin\":{\"t\":60},\"barmode\":\"relative\"},                        {\"responsive\": true}                    ).then(function(){\n",
       "                            \n",
       "var gd = document.getElementById('f9434d03-7c2d-4c36-b459-edea86607268');\n",
       "var x = new MutationObserver(function (mutations, observer) {{\n",
       "        var display = window.getComputedStyle(gd).display;\n",
       "        if (!display || display === 'none') {{\n",
       "            console.log([gd, 'removed!']);\n",
       "            Plotly.purge(gd);\n",
       "            observer.disconnect();\n",
       "        }}\n",
       "}});\n",
       "\n",
       "// Listen for the removal of the full notebook cells\n",
       "var notebookContainer = gd.closest('#notebook-container');\n",
       "if (notebookContainer) {{\n",
       "    x.observe(notebookContainer, {childList: true});\n",
       "}}\n",
       "\n",
       "// Listen for the clearing of the current output cell\n",
       "var outputEl = gd.closest('.output');\n",
       "if (outputEl) {{\n",
       "    x.observe(outputEl, {childList: true});\n",
       "}}\n",
       "\n",
       "                        })                };                });            </script>        </div>"
      ]
     },
     "metadata": {},
     "output_type": "display_data"
    }
   ],
   "execution_count": 71
  },
  {
   "metadata": {
    "ExecuteTime": {
     "end_time": "2024-04-24T18:28:04.426340Z",
     "start_time": "2024-04-24T18:28:04.420708Z"
    }
   },
   "cell_type": "code",
   "source": [
    "def estimate_mde(mean, sigma, n, alpha = 0.05, power = 0.8):\n",
    "    coef = norm.ppf(q = 1 - (alpha / 2)) + norm.ppf(q = power)\n",
    "    return coef * (np.sqrt(2 * sigma**2 / n)) / mean"
   ],
   "id": "10c9af4c0d9cdb84",
   "outputs": [],
   "execution_count": 40
  },
  {
   "metadata": {
    "ExecuteTime": {
     "end_time": "2024-04-24T19:05:53.456343Z",
     "start_time": "2024-04-24T19:05:53.450529Z"
    }
   },
   "cell_type": "code",
   "source": "estimate_mde(60.011519, 3.413131, 30 * 6)",
   "id": "c4f1f1e8b267809e",
   "outputs": [
    {
     "data": {
      "text/plain": [
       "0.016795808728472007"
      ]
     },
     "execution_count": 70,
     "metadata": {},
     "output_type": "execute_result"
    }
   ],
   "execution_count": 70
  },
  {
   "metadata": {
    "ExecuteTime": {
     "end_time": "2024-04-24T19:05:51.782894Z",
     "start_time": "2024-04-24T19:05:51.777104Z"
    }
   },
   "cell_type": "code",
   "source": "estimate_mde(60.011519, 3.413131, 45 * 6)",
   "id": "8710dd588481df90",
   "outputs": [
    {
     "data": {
      "text/plain": [
       "0.013713720400713452"
      ]
     },
     "execution_count": 69,
     "metadata": {},
     "output_type": "execute_result"
    }
   ],
   "execution_count": 69
  },
  {
   "metadata": {
    "ExecuteTime": {
     "end_time": "2024-04-24T19:05:48.768221Z",
     "start_time": "2024-04-24T19:05:48.757797Z"
    }
   },
   "cell_type": "code",
   "source": "estimate_mde(60.011519, 3.413131, 60 * 6)",
   "id": "a205640f689c1504",
   "outputs": [
    {
     "data": {
      "text/plain": [
       "0.01187643024741476"
      ]
     },
     "execution_count": 68,
     "metadata": {},
     "output_type": "execute_result"
    }
   ],
   "execution_count": 68
  },
  {
   "metadata": {},
   "cell_type": "code",
   "outputs": [],
   "execution_count": null,
   "source": "",
   "id": "2dae316e2a4a4309"
  }
 ],
 "metadata": {
  "kernelspec": {
   "display_name": "Python 3",
   "language": "python",
   "name": "python3"
  },
  "language_info": {
   "codemirror_mode": {
    "name": "ipython",
    "version": 2
   },
   "file_extension": ".py",
   "mimetype": "text/x-python",
   "name": "python",
   "nbconvert_exporter": "python",
   "pygments_lexer": "ipython2",
   "version": "2.7.6"
  }
 },
 "nbformat": 4,
 "nbformat_minor": 5
}
